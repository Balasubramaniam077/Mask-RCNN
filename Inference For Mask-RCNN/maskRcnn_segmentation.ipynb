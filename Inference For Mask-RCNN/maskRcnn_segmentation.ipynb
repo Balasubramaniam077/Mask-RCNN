{
  "nbformat": 4,
  "nbformat_minor": 0,
  "metadata": {
    "colab": {
      "name": "maskRcnn-segmentation.ipynb",
      "private_outputs": true,
      "provenance": []
    },
    "kernelspec": {
      "name": "python3",
      "display_name": "Python 3"
    },
    "language_info": {
      "name": "python"
    },
    "accelerator": "GPU"
  },
  "cells": [
    {
      "cell_type": "markdown",
      "metadata": {
        "id": "Q-Wj4Bf1kLmE"
      },
      "source": [
        "Hi Guys.This my Custom MASK-RCNN Running code"
      ]
    },
    {
      "cell_type": "code",
      "metadata": {
        "id": "2m7CjmPHh-z_"
      },
      "source": [
        "from google.colab import drive\n",
        "drive.mount('/content/drive')"
      ],
      "execution_count": null,
      "outputs": []
    },
    {
      "cell_type": "code",
      "metadata": {
        "id": "S_urTjHlh8ra"
      },
      "source": [
        "%cd /content/drive/MyDrive/mask Rcnn"
      ],
      "execution_count": null,
      "outputs": []
    },
    {
      "cell_type": "code",
      "metadata": {
        "id": "a3GfpKBHiLlk"
      },
      "source": [
        "!pwd"
      ],
      "execution_count": null,
      "outputs": []
    },
    {
      "cell_type": "code",
      "metadata": {
        "id": "BJ6Yk0N2hM6F"
      },
      "source": [
        "!pip install opencv-python\n",
        "!pip install scikit-image\n",
        "!pip install pillow\n",
        "!pip install pixellib\n",
        "!pip install tensorflow-gpu"
      ],
      "execution_count": null,
      "outputs": []
    },
    {
      "cell_type": "code",
      "metadata": {
        "id": "7VDlmRkShksI"
      },
      "source": [
        "!nvidia-smi"
      ],
      "execution_count": null,
      "outputs": []
    },
    {
      "cell_type": "code",
      "metadata": {
        "id": "GItrUX0ph31o"
      },
      "source": [
        "# Running the Image in CUSTOM MASK RCNN \n",
        "import pixellib\n",
        "from pixellib.instance import instance_segmentation\n",
        "segment_image = instance_segmentation()\n",
        "segment_image.load_model(\"/content/drive/MyDrive/mask Rcnn/weigth/mask_rcnn_object_0005.h5\") \n",
        "segment_image.segmentImage(\"/content/drive/MyDrive/mask Rcnn/cycle.jpg\", show_bboxes = False, output_image_name = \"output.jpg\")"
      ],
      "execution_count": null,
      "outputs": []
    },
    {
      "cell_type": "code",
      "metadata": {
        "id": "1LUf6bL-kdq_"
      },
      "source": [
        "#Running the video in CUSTOM MASK RCNN\n",
        "  import pixellib\n",
        "  from pixellib.instance import custom_segmentation\n",
        "\n",
        "  test_video = custom_segmentation()\n",
        "  test_video.inferConfig(num_classes=  1, class_names=[\"PERSON\"])\n",
        "  test_video.load_model(\"/content/drive/MyDrive/mask Rcnn/weigth/mask_rcnn_object_0005.h5\")\n",
        "  test_video.process_video(\"PERSON.mp4\", show_bboxes = True,  output_video_name=\"video_out.mp4\", frames_per_second=15)"
      ],
      "execution_count": null,
      "outputs": []
    }
  ]
}